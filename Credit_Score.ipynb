{
 "cells": [
  {
   "cell_type": "code",
   "execution_count": 1,
   "id": "7f2a6b0d",
   "metadata": {},
   "outputs": [],
   "source": [
    "import pandas as pd \n",
    "import numpy as np"
   ]
  },
  {
   "cell_type": "code",
   "execution_count": 2,
   "id": "91a2f14f",
   "metadata": {},
   "outputs": [],
   "source": [
    "data = pd.read_csv('train.csv')"
   ]
  },
  {
   "cell_type": "code",
   "execution_count": 3,
   "id": "c3da3ff9",
   "metadata": {},
   "outputs": [
    {
     "data": {
      "text/html": [
       "<div>\n",
       "<style scoped>\n",
       "    .dataframe tbody tr th:only-of-type {\n",
       "        vertical-align: middle;\n",
       "    }\n",
       "\n",
       "    .dataframe tbody tr th {\n",
       "        vertical-align: top;\n",
       "    }\n",
       "\n",
       "    .dataframe thead th {\n",
       "        text-align: right;\n",
       "    }\n",
       "</style>\n",
       "<table border=\"1\" class=\"dataframe\">\n",
       "  <thead>\n",
       "    <tr style=\"text-align: right;\">\n",
       "      <th></th>\n",
       "      <th>ID</th>\n",
       "      <th>Customer_ID</th>\n",
       "      <th>Month</th>\n",
       "      <th>Name</th>\n",
       "      <th>Age</th>\n",
       "      <th>SSN</th>\n",
       "      <th>Occupation</th>\n",
       "      <th>Annual_Income</th>\n",
       "      <th>Monthly_Inhand_Salary</th>\n",
       "      <th>Num_Bank_Accounts</th>\n",
       "      <th>...</th>\n",
       "      <th>Credit_Mix</th>\n",
       "      <th>Outstanding_Debt</th>\n",
       "      <th>Credit_Utilization_Ratio</th>\n",
       "      <th>Credit_History_Age</th>\n",
       "      <th>Payment_of_Min_Amount</th>\n",
       "      <th>Total_EMI_per_month</th>\n",
       "      <th>Amount_invested_monthly</th>\n",
       "      <th>Payment_Behaviour</th>\n",
       "      <th>Monthly_Balance</th>\n",
       "      <th>Credit_Score</th>\n",
       "    </tr>\n",
       "  </thead>\n",
       "  <tbody>\n",
       "    <tr>\n",
       "      <th>0</th>\n",
       "      <td>5634</td>\n",
       "      <td>3392</td>\n",
       "      <td>1</td>\n",
       "      <td>Aaron Maashoh</td>\n",
       "      <td>23.0</td>\n",
       "      <td>821000265.0</td>\n",
       "      <td>Scientist</td>\n",
       "      <td>19114.12</td>\n",
       "      <td>1824.843333</td>\n",
       "      <td>3.0</td>\n",
       "      <td>...</td>\n",
       "      <td>Good</td>\n",
       "      <td>809.98</td>\n",
       "      <td>26.822620</td>\n",
       "      <td>265.0</td>\n",
       "      <td>No</td>\n",
       "      <td>49.574949</td>\n",
       "      <td>21.465380</td>\n",
       "      <td>High_spent_Small_value_payments</td>\n",
       "      <td>312.494089</td>\n",
       "      <td>Good</td>\n",
       "    </tr>\n",
       "    <tr>\n",
       "      <th>1</th>\n",
       "      <td>5635</td>\n",
       "      <td>3392</td>\n",
       "      <td>2</td>\n",
       "      <td>Aaron Maashoh</td>\n",
       "      <td>23.0</td>\n",
       "      <td>821000265.0</td>\n",
       "      <td>Scientist</td>\n",
       "      <td>19114.12</td>\n",
       "      <td>1824.843333</td>\n",
       "      <td>3.0</td>\n",
       "      <td>...</td>\n",
       "      <td>Good</td>\n",
       "      <td>809.98</td>\n",
       "      <td>31.944960</td>\n",
       "      <td>266.0</td>\n",
       "      <td>No</td>\n",
       "      <td>49.574949</td>\n",
       "      <td>21.465380</td>\n",
       "      <td>Low_spent_Large_value_payments</td>\n",
       "      <td>284.629162</td>\n",
       "      <td>Good</td>\n",
       "    </tr>\n",
       "    <tr>\n",
       "      <th>2</th>\n",
       "      <td>5636</td>\n",
       "      <td>3392</td>\n",
       "      <td>3</td>\n",
       "      <td>Aaron Maashoh</td>\n",
       "      <td>23.0</td>\n",
       "      <td>821000265.0</td>\n",
       "      <td>Scientist</td>\n",
       "      <td>19114.12</td>\n",
       "      <td>1824.843333</td>\n",
       "      <td>3.0</td>\n",
       "      <td>...</td>\n",
       "      <td>Good</td>\n",
       "      <td>809.98</td>\n",
       "      <td>28.609352</td>\n",
       "      <td>267.0</td>\n",
       "      <td>No</td>\n",
       "      <td>49.574949</td>\n",
       "      <td>21.465380</td>\n",
       "      <td>Low_spent_Medium_value_payments</td>\n",
       "      <td>331.209863</td>\n",
       "      <td>Good</td>\n",
       "    </tr>\n",
       "    <tr>\n",
       "      <th>3</th>\n",
       "      <td>5637</td>\n",
       "      <td>3392</td>\n",
       "      <td>4</td>\n",
       "      <td>Aaron Maashoh</td>\n",
       "      <td>23.0</td>\n",
       "      <td>821000265.0</td>\n",
       "      <td>Scientist</td>\n",
       "      <td>19114.12</td>\n",
       "      <td>1824.843333</td>\n",
       "      <td>3.0</td>\n",
       "      <td>...</td>\n",
       "      <td>Good</td>\n",
       "      <td>809.98</td>\n",
       "      <td>31.377862</td>\n",
       "      <td>268.0</td>\n",
       "      <td>No</td>\n",
       "      <td>49.574949</td>\n",
       "      <td>21.465380</td>\n",
       "      <td>Low_spent_Small_value_payments</td>\n",
       "      <td>223.451310</td>\n",
       "      <td>Good</td>\n",
       "    </tr>\n",
       "    <tr>\n",
       "      <th>4</th>\n",
       "      <td>5638</td>\n",
       "      <td>3392</td>\n",
       "      <td>5</td>\n",
       "      <td>Aaron Maashoh</td>\n",
       "      <td>23.0</td>\n",
       "      <td>821000265.0</td>\n",
       "      <td>Scientist</td>\n",
       "      <td>19114.12</td>\n",
       "      <td>1824.843333</td>\n",
       "      <td>3.0</td>\n",
       "      <td>...</td>\n",
       "      <td>Good</td>\n",
       "      <td>809.98</td>\n",
       "      <td>24.797347</td>\n",
       "      <td>269.0</td>\n",
       "      <td>No</td>\n",
       "      <td>49.574949</td>\n",
       "      <td>21.465380</td>\n",
       "      <td>High_spent_Medium_value_payments</td>\n",
       "      <td>341.489231</td>\n",
       "      <td>Good</td>\n",
       "    </tr>\n",
       "    <tr>\n",
       "      <th>...</th>\n",
       "      <td>...</td>\n",
       "      <td>...</td>\n",
       "      <td>...</td>\n",
       "      <td>...</td>\n",
       "      <td>...</td>\n",
       "      <td>...</td>\n",
       "      <td>...</td>\n",
       "      <td>...</td>\n",
       "      <td>...</td>\n",
       "      <td>...</td>\n",
       "      <td>...</td>\n",
       "      <td>...</td>\n",
       "      <td>...</td>\n",
       "      <td>...</td>\n",
       "      <td>...</td>\n",
       "      <td>...</td>\n",
       "      <td>...</td>\n",
       "      <td>...</td>\n",
       "      <td>...</td>\n",
       "      <td>...</td>\n",
       "      <td>...</td>\n",
       "    </tr>\n",
       "    <tr>\n",
       "      <th>99995</th>\n",
       "      <td>155625</td>\n",
       "      <td>37932</td>\n",
       "      <td>4</td>\n",
       "      <td>Nicks</td>\n",
       "      <td>25.0</td>\n",
       "      <td>78735990.0</td>\n",
       "      <td>Mechanic</td>\n",
       "      <td>39628.99</td>\n",
       "      <td>3359.415833</td>\n",
       "      <td>4.0</td>\n",
       "      <td>...</td>\n",
       "      <td>Good</td>\n",
       "      <td>502.38</td>\n",
       "      <td>34.663572</td>\n",
       "      <td>378.0</td>\n",
       "      <td>No</td>\n",
       "      <td>35.104023</td>\n",
       "      <td>24.028477</td>\n",
       "      <td>High_spent_Large_value_payments</td>\n",
       "      <td>479.866228</td>\n",
       "      <td>Poor</td>\n",
       "    </tr>\n",
       "    <tr>\n",
       "      <th>99996</th>\n",
       "      <td>155626</td>\n",
       "      <td>37932</td>\n",
       "      <td>5</td>\n",
       "      <td>Nicks</td>\n",
       "      <td>25.0</td>\n",
       "      <td>78735990.0</td>\n",
       "      <td>Mechanic</td>\n",
       "      <td>39628.99</td>\n",
       "      <td>3359.415833</td>\n",
       "      <td>4.0</td>\n",
       "      <td>...</td>\n",
       "      <td>Good</td>\n",
       "      <td>502.38</td>\n",
       "      <td>40.565631</td>\n",
       "      <td>379.0</td>\n",
       "      <td>No</td>\n",
       "      <td>35.104023</td>\n",
       "      <td>24.028477</td>\n",
       "      <td>High_spent_Medium_value_payments</td>\n",
       "      <td>496.651610</td>\n",
       "      <td>Poor</td>\n",
       "    </tr>\n",
       "    <tr>\n",
       "      <th>99997</th>\n",
       "      <td>155627</td>\n",
       "      <td>37932</td>\n",
       "      <td>6</td>\n",
       "      <td>Nicks</td>\n",
       "      <td>25.0</td>\n",
       "      <td>78735990.0</td>\n",
       "      <td>Mechanic</td>\n",
       "      <td>39628.99</td>\n",
       "      <td>3359.415833</td>\n",
       "      <td>4.0</td>\n",
       "      <td>...</td>\n",
       "      <td>Good</td>\n",
       "      <td>502.38</td>\n",
       "      <td>41.255522</td>\n",
       "      <td>380.0</td>\n",
       "      <td>No</td>\n",
       "      <td>35.104023</td>\n",
       "      <td>24.028477</td>\n",
       "      <td>High_spent_Large_value_payments</td>\n",
       "      <td>516.809083</td>\n",
       "      <td>Poor</td>\n",
       "    </tr>\n",
       "    <tr>\n",
       "      <th>99998</th>\n",
       "      <td>155628</td>\n",
       "      <td>37932</td>\n",
       "      <td>7</td>\n",
       "      <td>Nicks</td>\n",
       "      <td>25.0</td>\n",
       "      <td>78735990.0</td>\n",
       "      <td>Mechanic</td>\n",
       "      <td>39628.99</td>\n",
       "      <td>3359.415833</td>\n",
       "      <td>4.0</td>\n",
       "      <td>...</td>\n",
       "      <td>Good</td>\n",
       "      <td>502.38</td>\n",
       "      <td>33.638208</td>\n",
       "      <td>381.0</td>\n",
       "      <td>No</td>\n",
       "      <td>35.104023</td>\n",
       "      <td>24.028477</td>\n",
       "      <td>Low_spent_Large_value_payments</td>\n",
       "      <td>319.164979</td>\n",
       "      <td>Standard</td>\n",
       "    </tr>\n",
       "    <tr>\n",
       "      <th>99999</th>\n",
       "      <td>155629</td>\n",
       "      <td>37932</td>\n",
       "      <td>8</td>\n",
       "      <td>Nicks</td>\n",
       "      <td>25.0</td>\n",
       "      <td>78735990.0</td>\n",
       "      <td>Mechanic</td>\n",
       "      <td>39628.99</td>\n",
       "      <td>3359.415833</td>\n",
       "      <td>4.0</td>\n",
       "      <td>...</td>\n",
       "      <td>Good</td>\n",
       "      <td>502.38</td>\n",
       "      <td>34.192463</td>\n",
       "      <td>382.0</td>\n",
       "      <td>No</td>\n",
       "      <td>35.104023</td>\n",
       "      <td>24.028477</td>\n",
       "      <td>High_spent_Medium_value_payments</td>\n",
       "      <td>393.673696</td>\n",
       "      <td>Poor</td>\n",
       "    </tr>\n",
       "  </tbody>\n",
       "</table>\n",
       "<p>100000 rows × 28 columns</p>\n",
       "</div>"
      ],
      "text/plain": [
       "           ID  Customer_ID  Month           Name   Age          SSN  \\\n",
       "0        5634         3392      1  Aaron Maashoh  23.0  821000265.0   \n",
       "1        5635         3392      2  Aaron Maashoh  23.0  821000265.0   \n",
       "2        5636         3392      3  Aaron Maashoh  23.0  821000265.0   \n",
       "3        5637         3392      4  Aaron Maashoh  23.0  821000265.0   \n",
       "4        5638         3392      5  Aaron Maashoh  23.0  821000265.0   \n",
       "...       ...          ...    ...            ...   ...          ...   \n",
       "99995  155625        37932      4          Nicks  25.0   78735990.0   \n",
       "99996  155626        37932      5          Nicks  25.0   78735990.0   \n",
       "99997  155627        37932      6          Nicks  25.0   78735990.0   \n",
       "99998  155628        37932      7          Nicks  25.0   78735990.0   \n",
       "99999  155629        37932      8          Nicks  25.0   78735990.0   \n",
       "\n",
       "      Occupation  Annual_Income  Monthly_Inhand_Salary  Num_Bank_Accounts  \\\n",
       "0      Scientist       19114.12            1824.843333                3.0   \n",
       "1      Scientist       19114.12            1824.843333                3.0   \n",
       "2      Scientist       19114.12            1824.843333                3.0   \n",
       "3      Scientist       19114.12            1824.843333                3.0   \n",
       "4      Scientist       19114.12            1824.843333                3.0   \n",
       "...          ...            ...                    ...                ...   \n",
       "99995   Mechanic       39628.99            3359.415833                4.0   \n",
       "99996   Mechanic       39628.99            3359.415833                4.0   \n",
       "99997   Mechanic       39628.99            3359.415833                4.0   \n",
       "99998   Mechanic       39628.99            3359.415833                4.0   \n",
       "99999   Mechanic       39628.99            3359.415833                4.0   \n",
       "\n",
       "       ...  Credit_Mix  Outstanding_Debt  Credit_Utilization_Ratio  \\\n",
       "0      ...        Good            809.98                 26.822620   \n",
       "1      ...        Good            809.98                 31.944960   \n",
       "2      ...        Good            809.98                 28.609352   \n",
       "3      ...        Good            809.98                 31.377862   \n",
       "4      ...        Good            809.98                 24.797347   \n",
       "...    ...         ...               ...                       ...   \n",
       "99995  ...        Good            502.38                 34.663572   \n",
       "99996  ...        Good            502.38                 40.565631   \n",
       "99997  ...        Good            502.38                 41.255522   \n",
       "99998  ...        Good            502.38                 33.638208   \n",
       "99999  ...        Good            502.38                 34.192463   \n",
       "\n",
       "      Credit_History_Age  Payment_of_Min_Amount  Total_EMI_per_month  \\\n",
       "0                  265.0                     No            49.574949   \n",
       "1                  266.0                     No            49.574949   \n",
       "2                  267.0                     No            49.574949   \n",
       "3                  268.0                     No            49.574949   \n",
       "4                  269.0                     No            49.574949   \n",
       "...                  ...                    ...                  ...   \n",
       "99995              378.0                     No            35.104023   \n",
       "99996              379.0                     No            35.104023   \n",
       "99997              380.0                     No            35.104023   \n",
       "99998              381.0                     No            35.104023   \n",
       "99999              382.0                     No            35.104023   \n",
       "\n",
       "       Amount_invested_monthly                 Payment_Behaviour  \\\n",
       "0                    21.465380   High_spent_Small_value_payments   \n",
       "1                    21.465380    Low_spent_Large_value_payments   \n",
       "2                    21.465380   Low_spent_Medium_value_payments   \n",
       "3                    21.465380    Low_spent_Small_value_payments   \n",
       "4                    21.465380  High_spent_Medium_value_payments   \n",
       "...                        ...                               ...   \n",
       "99995                24.028477   High_spent_Large_value_payments   \n",
       "99996                24.028477  High_spent_Medium_value_payments   \n",
       "99997                24.028477   High_spent_Large_value_payments   \n",
       "99998                24.028477    Low_spent_Large_value_payments   \n",
       "99999                24.028477  High_spent_Medium_value_payments   \n",
       "\n",
       "      Monthly_Balance  Credit_Score  \n",
       "0          312.494089          Good  \n",
       "1          284.629162          Good  \n",
       "2          331.209863          Good  \n",
       "3          223.451310          Good  \n",
       "4          341.489231          Good  \n",
       "...               ...           ...  \n",
       "99995      479.866228          Poor  \n",
       "99996      496.651610          Poor  \n",
       "99997      516.809083          Poor  \n",
       "99998      319.164979      Standard  \n",
       "99999      393.673696          Poor  \n",
       "\n",
       "[100000 rows x 28 columns]"
      ]
     },
     "execution_count": 3,
     "metadata": {},
     "output_type": "execute_result"
    }
   ],
   "source": [
    "data"
   ]
  },
  {
   "cell_type": "code",
   "execution_count": 4,
   "id": "596b9a8b",
   "metadata": {},
   "outputs": [
    {
     "data": {
      "text/plain": [
       "33029.66    16\n",
       "20867.67    16\n",
       "17816.75    16\n",
       "9141.63     16\n",
       "17273.83    16\n",
       "            ..\n",
       "33022.70     8\n",
       "33022.95     8\n",
       "68332.18     8\n",
       "17576.52     8\n",
       "10320.67     8\n",
       "Name: Annual_Income, Length: 12488, dtype: int64"
      ]
     },
     "execution_count": 4,
     "metadata": {},
     "output_type": "execute_result"
    }
   ],
   "source": [
    "data['Annual_Income'].value_counts()"
   ]
  },
  {
   "cell_type": "code",
   "execution_count": 5,
   "id": "9573c8e3",
   "metadata": {},
   "outputs": [
    {
     "data": {
      "text/plain": [
       "536.431250      16\n",
       "3080.555000     16\n",
       "1315.560833     16\n",
       "6082.187500     16\n",
       "5766.491667     16\n",
       "                ..\n",
       "1573.927963      1\n",
       "2514.590000      1\n",
       "3058.989127      1\n",
       "3136.386667      1\n",
       "10317.043333     1\n",
       "Name: Monthly_Inhand_Salary, Length: 13241, dtype: int64"
      ]
     },
     "execution_count": 5,
     "metadata": {},
     "output_type": "execute_result"
    }
   ],
   "source": [
    "data['Monthly_Inhand_Salary'].value_counts()"
   ]
  },
  {
   "cell_type": "code",
   "execution_count": 6,
   "id": "59929b13",
   "metadata": {},
   "outputs": [
    {
     "data": {
      "text/plain": [
       "6.0     13175\n",
       "7.0     12999\n",
       "8.0     12940\n",
       "4.0     12343\n",
       "5.0     12298\n",
       "3.0     12107\n",
       "9.0      5503\n",
       "10.0     5329\n",
       "1.0      4540\n",
       "0.0      4417\n",
       "2.0      4340\n",
       "11.0        9\n",
       "Name: Num_Bank_Accounts, dtype: int64"
      ]
     },
     "execution_count": 6,
     "metadata": {},
     "output_type": "execute_result"
    }
   ],
   "source": [
    "data['Num_Bank_Accounts'].value_counts()"
   ]
  },
  {
   "cell_type": "code",
   "execution_count": 7,
   "id": "dc033dbb",
   "metadata": {},
   "outputs": [
    {
     "data": {
      "text/plain": [
       "5.0     18903\n",
       "7.0     17024\n",
       "6.0     16932\n",
       "4.0     14362\n",
       "3.0     13560\n",
       "8.0      5073\n",
       "10.0     4962\n",
       "9.0      4753\n",
       "2.0      2196\n",
       "1.0      2185\n",
       "11.0       36\n",
       "0.0        14\n",
       "Name: Num_Credit_Card, dtype: int64"
      ]
     },
     "execution_count": 7,
     "metadata": {},
     "output_type": "execute_result"
    }
   ],
   "source": [
    "data['Num_Credit_Card'].value_counts()"
   ]
  },
  {
   "cell_type": "code",
   "execution_count": 8,
   "id": "069d16c3",
   "metadata": {},
   "outputs": [
    {
     "data": {
      "text/plain": [
       "8.0     5104\n",
       "5.0     5096\n",
       "6.0     4832\n",
       "12.0    4648\n",
       "10.0    4616\n",
       "7.0     4584\n",
       "9.0     4576\n",
       "11.0    4512\n",
       "18.0    4192\n",
       "15.0    4072\n",
       "20.0    4008\n",
       "17.0    3888\n",
       "16.0    3800\n",
       "19.0    3704\n",
       "3.0     2824\n",
       "1.0     2744\n",
       "4.0     2640\n",
       "2.0     2520\n",
       "13.0    2432\n",
       "14.0    2272\n",
       "32.0    1776\n",
       "22.0    1752\n",
       "24.0    1736\n",
       "30.0    1728\n",
       "23.0    1720\n",
       "29.0    1696\n",
       "28.0    1648\n",
       "27.0    1640\n",
       "25.0    1608\n",
       "21.0    1592\n",
       "34.0    1528\n",
       "26.0    1528\n",
       "33.0    1496\n",
       "31.0    1488\n",
       "Name: Interest_Rate, dtype: int64"
      ]
     },
     "execution_count": 8,
     "metadata": {},
     "output_type": "execute_result"
    }
   ],
   "source": [
    "data['Interest_Rate'].value_counts()"
   ]
  },
  {
   "cell_type": "code",
   "execution_count": 9,
   "id": "e9a9ceb9",
   "metadata": {},
   "outputs": [
    {
     "data": {
      "text/plain": [
       "3.0    15752\n",
       "2.0    15712\n",
       "4.0    15456\n",
       "0.0    11408\n",
       "1.0    11128\n",
       "6.0     8144\n",
       "7.0     7680\n",
       "5.0     7528\n",
       "9.0     3856\n",
       "8.0     3336\n",
       "Name: Num_of_Loan, dtype: int64"
      ]
     },
     "execution_count": 9,
     "metadata": {},
     "output_type": "execute_result"
    }
   ],
   "source": [
    "data['Num_of_Loan'].value_counts()"
   ]
  },
  {
   "cell_type": "code",
   "execution_count": 10,
   "id": "a95fcc52",
   "metadata": {},
   "outputs": [
    {
     "data": {
      "text/plain": [
       "15.0    3596\n",
       "13.0    3424\n",
       "8.0     3324\n",
       "14.0    3313\n",
       "10.0    3281\n",
       "        ... \n",
       "59.0     528\n",
       "39.0     525\n",
       "43.0     502\n",
       "37.0     490\n",
       "46.0     490\n",
       "Name: Delay_from_due_date, Length: 63, dtype: int64"
      ]
     },
     "execution_count": 10,
     "metadata": {},
     "output_type": "execute_result"
    }
   ],
   "source": [
    "data['Delay_from_due_date'].value_counts()"
   ]
  },
  {
   "cell_type": "code",
   "execution_count": 11,
   "id": "6cb52103",
   "metadata": {},
   "outputs": [
    {
     "data": {
      "text/plain": [
       "19.0    5982\n",
       "17.0    5832\n",
       "10.0    5802\n",
       "16.0    5768\n",
       "15.0    5724\n",
       "18.0    5668\n",
       "20.0    5584\n",
       "12.0    5493\n",
       "9.0     5399\n",
       "8.0     5300\n",
       "11.0    5272\n",
       "14.0    4503\n",
       "13.0    4332\n",
       "21.0    2717\n",
       "7.0     2535\n",
       "22.0    2495\n",
       "6.0     2491\n",
       "23.0    2304\n",
       "5.0     2263\n",
       "25.0    2241\n",
       "0.0     2081\n",
       "3.0     2074\n",
       "2.0     2071\n",
       "24.0    2045\n",
       "1.0     2043\n",
       "4.0     1981\n",
       "Name: Num_of_Delayed_Payment, dtype: int64"
      ]
     },
     "execution_count": 11,
     "metadata": {},
     "output_type": "execute_result"
    }
   ],
   "source": [
    "data['Num_of_Delayed_Payment'].value_counts()"
   ]
  },
  {
   "cell_type": "code",
   "execution_count": 12,
   "id": "80b58b0c",
   "metadata": {},
   "outputs": [
    {
     "data": {
      "text/plain": [
       "Standard    45848\n",
       "Good        30384\n",
       "Bad         23768\n",
       "Name: Credit_Mix, dtype: int64"
      ]
     },
     "execution_count": 12,
     "metadata": {},
     "output_type": "execute_result"
    }
   ],
   "source": [
    "data['Credit_Mix'].value_counts()"
   ]
  },
  {
   "cell_type": "code",
   "execution_count": 13,
   "id": "21120286",
   "metadata": {},
   "outputs": [
    {
     "data": {
      "text/plain": [
       "1109.03    24\n",
       "460.46     24\n",
       "1151.70    24\n",
       "1360.45    24\n",
       "967.75     16\n",
       "           ..\n",
       "1553.07     8\n",
       "1072.63     8\n",
       "510.55      8\n",
       "1277.80     8\n",
       "256.00      8\n",
       "Name: Outstanding_Debt, Length: 12203, dtype: int64"
      ]
     },
     "execution_count": 13,
     "metadata": {},
     "output_type": "execute_result"
    }
   ],
   "source": [
    "data['Outstanding_Debt'].value_counts()"
   ]
  },
  {
   "cell_type": "code",
   "execution_count": 14,
   "id": "0dd597e9",
   "metadata": {},
   "outputs": [
    {
     "data": {
      "text/plain": [
       "190.0    488\n",
       "232.0    485\n",
       "191.0    484\n",
       "215.0    483\n",
       "213.0    483\n",
       "        ... \n",
       "3.0       21\n",
       "403.0     15\n",
       "2.0       15\n",
       "404.0     15\n",
       "1.0        2\n",
       "Name: Credit_History_Age, Length: 404, dtype: int64"
      ]
     },
     "execution_count": 14,
     "metadata": {},
     "output_type": "execute_result"
    }
   ],
   "source": [
    "data['Credit_History_Age'].value_counts()"
   ]
  },
  {
   "cell_type": "code",
   "execution_count": 15,
   "id": "00b8e355",
   "metadata": {},
   "outputs": [
    {
     "data": {
      "text/plain": [
       "236.241829     8\n",
       "1183.930696    8\n",
       "803.332290     7\n",
       "235.451585     7\n",
       "396.837590     7\n",
       "              ..\n",
       "522.596320     1\n",
       "302.407573     1\n",
       "381.232009     1\n",
       "1126.868163    1\n",
       "414.080204     1\n",
       "Name: Monthly_Balance, Length: 98494, dtype: int64"
      ]
     },
     "execution_count": 15,
     "metadata": {},
     "output_type": "execute_result"
    }
   ],
   "source": [
    "data['Monthly_Balance'].value_counts()"
   ]
  }
 ],
 "metadata": {
  "kernelspec": {
   "display_name": "Python 3",
   "language": "python",
   "name": "python3"
  },
  "language_info": {
   "codemirror_mode": {
    "name": "ipython",
    "version": 3
   },
   "file_extension": ".py",
   "mimetype": "text/x-python",
   "name": "python",
   "nbconvert_exporter": "python",
   "pygments_lexer": "ipython3",
   "version": "3.6.13"
  }
 },
 "nbformat": 4,
 "nbformat_minor": 5
}
